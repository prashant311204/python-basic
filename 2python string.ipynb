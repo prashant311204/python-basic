{
 "cells": [
  {
   "cell_type": "code",
   "execution_count": 8,
   "id": "0261de77-2554-4870-b70d-4dec6600b07e",
   "metadata": {},
   "outputs": [],
   "source": [
    "p=\"prashant kumar puri\"\n"
   ]
  },
  {
   "cell_type": "code",
   "execution_count": 9,
   "id": "34718e1e-b01f-4960-9fab-3d4a86724057",
   "metadata": {},
   "outputs": [
    {
     "data": {
      "text/plain": [
       "'prashant kumar puri'"
      ]
     },
     "execution_count": 9,
     "metadata": {},
     "output_type": "execute_result"
    }
   ],
   "source": [
    "p"
   ]
  },
  {
   "cell_type": "code",
   "execution_count": 10,
   "id": "8c2f3096-66ba-41b4-9f5a-9ff17e3360cf",
   "metadata": {},
   "outputs": [
    {
     "data": {
      "text/plain": [
       "str"
      ]
     },
     "execution_count": 10,
     "metadata": {},
     "output_type": "execute_result"
    }
   ],
   "source": [
    "type(p)"
   ]
  },
  {
   "cell_type": "code",
   "execution_count": 11,
   "id": "147b4cef-f7c7-4a13-adf4-e6471e4d2a2b",
   "metadata": {},
   "outputs": [
    {
     "data": {
      "text/plain": [
       "19"
      ]
     },
     "execution_count": 11,
     "metadata": {},
     "output_type": "execute_result"
    }
   ],
   "source": [
    "len(p)"
   ]
  },
  {
   "cell_type": "code",
   "execution_count": 13,
   "id": "84df0840-a3d2-43d7-89da-14b756ad515c",
   "metadata": {},
   "outputs": [
    {
     "data": {
      "text/plain": [
       "1"
      ]
     },
     "execution_count": 13,
     "metadata": {},
     "output_type": "execute_result"
    }
   ],
   "source": [
    "p.find('r')\n",
    "#variable.tab\n",
    "#find index btayega"
   ]
  },
  {
   "cell_type": "code",
   "execution_count": 15,
   "id": "32007c95-0e75-465e-8e7c-68476e24bf7b",
   "metadata": {},
   "outputs": [
    {
     "data": {
      "text/plain": [
       "3"
      ]
     },
     "execution_count": 15,
     "metadata": {},
     "output_type": "execute_result"
    }
   ],
   "source": [
    "p.find('shant')\n",
    "#starting index"
   ]
  },
  {
   "cell_type": "code",
   "execution_count": 16,
   "id": "b0646b7e-a021-47bf-8e8f-cbcfc1192010",
   "metadata": {},
   "outputs": [
    {
     "data": {
      "text/plain": [
       "2"
      ]
     },
     "execution_count": 16,
     "metadata": {},
     "output_type": "execute_result"
    }
   ],
   "source": [
    "p.count('p')\n",
    "#count alphabate"
   ]
  },
  {
   "cell_type": "code",
   "execution_count": 17,
   "id": "b9ec5306-72e9-4f5a-8a6b-3347739b7bff",
   "metadata": {},
   "outputs": [
    {
     "data": {
      "text/plain": [
       "'PRASHANT KUMAR PURI'"
      ]
     },
     "execution_count": 17,
     "metadata": {},
     "output_type": "execute_result"
    }
   ],
   "source": [
    "p.upper()\n",
    "#sb capital kr dega"
   ]
  },
  {
   "cell_type": "code",
   "execution_count": 18,
   "id": "81bf4693-ab2e-4341-9cbb-06b9bc0bdcb2",
   "metadata": {},
   "outputs": [
    {
     "data": {
      "text/plain": [
       "'prashant kumar puri'"
      ]
     },
     "execution_count": 18,
     "metadata": {},
     "output_type": "execute_result"
    }
   ],
   "source": [
    "p.lower()\n",
    "#sbko small kr dega"
   ]
  },
  {
   "cell_type": "code",
   "execution_count": 20,
   "id": "d2a2ca93-e545-4cfc-a1d8-e488a55563ae",
   "metadata": {},
   "outputs": [
    {
     "data": {
      "text/plain": [
       "'PRASHANT KUMAR PURI'"
      ]
     },
     "execution_count": 20,
     "metadata": {},
     "output_type": "execute_result"
    }
   ],
   "source": [
    "p.swapcase()\n",
    "#jo hum likhe rahenge usko swap karega"
   ]
  },
  {
   "cell_type": "code",
   "execution_count": 21,
   "id": "f50d3a5b-b6ff-4858-81f3-704cfb0e5b4a",
   "metadata": {},
   "outputs": [
    {
     "data": {
      "text/plain": [
       "'Prashant Kumar Puri'"
      ]
     },
     "execution_count": 21,
     "metadata": {},
     "output_type": "execute_result"
    }
   ],
   "source": [
    "p.title()\n",
    "# sentence me sb first letter ko capital krega"
   ]
  },
  {
   "cell_type": "code",
   "execution_count": 22,
   "id": "c900bd9e-2eff-4058-ba3b-1f2dacb87e6d",
   "metadata": {},
   "outputs": [
    {
     "data": {
      "text/plain": [
       "'Prashant kumar puri'"
      ]
     },
     "execution_count": 22,
     "metadata": {},
     "output_type": "execute_result"
    }
   ],
   "source": [
    "p.capitalize()\n",
    "#first letter ko capital krega"
   ]
  },
  {
   "cell_type": "code",
   "execution_count": 23,
   "id": "06f7cfd5-2273-4b20-861c-10aa9d9824f8",
   "metadata": {},
   "outputs": [],
   "source": [
    "p1=\"prashantpandit\""
   ]
  },
  {
   "cell_type": "code",
   "execution_count": 24,
   "id": "dd874971-c94d-4452-9657-14ec433e48bc",
   "metadata": {},
   "outputs": [
    {
     "data": {
      "text/plain": [
       "'prashantpandit'"
      ]
     },
     "execution_count": 24,
     "metadata": {},
     "output_type": "execute_result"
    }
   ],
   "source": [
    "p1"
   ]
  },
  {
   "cell_type": "code",
   "execution_count": 26,
   "id": "87a67101-d8e4-456c-b1dd-34c690356394",
   "metadata": {},
   "outputs": [
    {
     "data": {
      "text/plain": [
       "'s'"
      ]
     },
     "execution_count": 26,
     "metadata": {},
     "output_type": "execute_result"
    }
   ],
   "source": [
    "p1[3]"
   ]
  },
  {
   "cell_type": "code",
   "execution_count": 27,
   "id": "93ada6bf-e162-44b3-b1e1-6f9047dee703",
   "metadata": {},
   "outputs": [
    {
     "data": {
      "text/plain": [
       "'t'"
      ]
     },
     "execution_count": 27,
     "metadata": {},
     "output_type": "execute_result"
    }
   ],
   "source": [
    "p1[-1]\n",
    "#  -4-3-2-1 reverse index\n"
   ]
  },
  {
   "cell_type": "code",
   "execution_count": 28,
   "id": "afe8b98b-e039-455c-a83a-991678f45199",
   "metadata": {},
   "outputs": [
    {
     "data": {
      "text/plain": [
       "'prashantpandit'"
      ]
     },
     "execution_count": 28,
     "metadata": {},
     "output_type": "execute_result"
    }
   ],
   "source": [
    "p1[0:15:1]\n",
    "#starting:jaha tk jana hai usse 1 jada index lenge:jump"
   ]
  },
  {
   "cell_type": "code",
   "execution_count": 30,
   "id": "4376f4d7-2f5d-47b9-84f7-1588ad97e307",
   "metadata": {},
   "outputs": [
    {
     "data": {
      "text/plain": [
       "'pandit'"
      ]
     },
     "execution_count": 30,
     "metadata": {},
     "output_type": "execute_result"
    }
   ],
   "source": [
    "p1[8::1]"
   ]
  },
  {
   "cell_type": "code",
   "execution_count": 31,
   "id": "4f5c5092-af30-403b-bf75-13392067ce11",
   "metadata": {},
   "outputs": [
    {
     "data": {
      "text/plain": [
       "'pahnpni'"
      ]
     },
     "execution_count": 31,
     "metadata": {},
     "output_type": "execute_result"
    }
   ],
   "source": [
    "p1[0::2]\n",
    "#jumping by 2"
   ]
  },
  {
   "cell_type": "code",
   "execution_count": 32,
   "id": "0332949b-40a4-4bcd-98d4-11bfcf5cae21",
   "metadata": {},
   "outputs": [
    {
     "data": {
      "text/plain": [
       "''"
      ]
     },
     "execution_count": 32,
     "metadata": {},
     "output_type": "execute_result"
    }
   ],
   "source": [
    "p1[0:7:-1]"
   ]
  },
  {
   "cell_type": "code",
   "execution_count": 33,
   "id": "156ea3bd-f78c-4ecf-b8aa-a8552b053479",
   "metadata": {},
   "outputs": [
    {
     "data": {
      "text/plain": [
       "'tidnaptnahsarp'"
      ]
     },
     "execution_count": 33,
     "metadata": {},
     "output_type": "execute_result"
    }
   ],
   "source": [
    "p1[::-1]"
   ]
  },
  {
   "cell_type": "code",
   "execution_count": null,
   "id": "68ce6082-a922-46f9-8f1e-b88af25470b4",
   "metadata": {},
   "outputs": [],
   "source": []
  }
 ],
 "metadata": {
  "kernelspec": {
   "display_name": "Python 3 (ipykernel)",
   "language": "python",
   "name": "python3"
  },
  "language_info": {
   "codemirror_mode": {
    "name": "ipython",
    "version": 3
   },
   "file_extension": ".py",
   "mimetype": "text/x-python",
   "name": "python",
   "nbconvert_exporter": "python",
   "pygments_lexer": "ipython3",
   "version": "3.10.8"
  }
 },
 "nbformat": 4,
 "nbformat_minor": 5
}
