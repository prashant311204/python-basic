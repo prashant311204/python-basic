{
 "cells": [
  {
   "cell_type": "code",
   "execution_count": 1,
   "id": "7c35072e-efba-419b-a15b-1011e5ef925f",
   "metadata": {},
   "outputs": [],
   "source": [
    "a=1000"
   ]
  },
  {
   "cell_type": "code",
   "execution_count": 2,
   "id": "73b753f9-fdd3-4180-a9e3-659496b4e167",
   "metadata": {},
   "outputs": [
    {
     "name": "stdout",
     "output_type": "stream",
     "text": [
      "ok i will buy\n"
     ]
    }
   ],
   "source": [
    "price=400\n",
    "if price<=500:\n",
    "    print( \"ok i will buy\")\n",
    "else:\n",
    "    print(\"i will not buy\")\n",
    "        "
   ]
  },
  {
   "cell_type": "code",
   "execution_count": 3,
   "id": "768b1c7d-1413-4f6d-aec5-b79d8991f54e",
   "metadata": {},
   "outputs": [
    {
     "name": "stdin",
     "output_type": "stream",
     "text": [
      " 123\n"
     ]
    }
   ],
   "source": [
    "price=input()\n",
    "# ALWAY GIVE STR"
   ]
  },
  {
   "cell_type": "code",
   "execution_count": 4,
   "id": "896c5f97-6db7-48db-b98c-4e7233c3e9fc",
   "metadata": {},
   "outputs": [
    {
     "data": {
      "text/plain": [
       "'123'"
      ]
     },
     "execution_count": 4,
     "metadata": {},
     "output_type": "execute_result"
    }
   ],
   "source": [
    "price"
   ]
  },
  {
   "cell_type": "code",
   "execution_count": 5,
   "id": "7d57cc57-3042-4c69-a4c5-a8b066d3b121",
   "metadata": {},
   "outputs": [
    {
     "data": {
      "text/plain": [
       "str"
      ]
     },
     "execution_count": 5,
     "metadata": {},
     "output_type": "execute_result"
    }
   ],
   "source": [
    "type(\"price\")"
   ]
  },
  {
   "cell_type": "code",
   "execution_count": 9,
   "id": "187c8ebc-83a5-4034-8450-f15b17ae35d9",
   "metadata": {},
   "outputs": [
    {
     "name": "stdin",
     "output_type": "stream",
     "text": [
      " 1215\n"
     ]
    }
   ],
   "source": [
    "price1=int(input())\n",
    "# TYPE CASTING INTO --->>> INT\n"
   ]
  },
  {
   "cell_type": "code",
   "execution_count": 11,
   "id": "66df8564-8aee-402c-b920-291078dfb9c8",
   "metadata": {},
   "outputs": [
    {
     "data": {
      "text/plain": [
       "int"
      ]
     },
     "execution_count": 11,
     "metadata": {},
     "output_type": "execute_result"
    }
   ],
   "source": [
    "type(price1)"
   ]
  },
  {
   "cell_type": "code",
   "execution_count": 14,
   "id": "147f5520-475b-4f20-8665-84ed9fd951bd",
   "metadata": {},
   "outputs": [
    {
     "name": "stdout",
     "output_type": "stream",
     "text": [
      "positive number\n"
     ]
    }
   ],
   "source": [
    "a=1000\n",
    "if a>0:\n",
    " print(\"positive number\")\n",
    "elif a<0:\n",
    "    print(\"negative number\")\n",
    "else:\n",
    "        print(\"zero\")\n"
   ]
  },
  {
   "cell_type": "code",
   "execution_count": 23,
   "id": "b753966c-bb9b-44a7-b375-8f1cb86ea605",
   "metadata": {},
   "outputs": [
    {
     "name": "stdin",
     "output_type": "stream",
     "text": [
      "enter a number to check even or odd number 123\n"
     ]
    },
    {
     "name": "stdout",
     "output_type": "stream",
     "text": [
      "odd\n"
     ]
    }
   ],
   "source": [
    "number=int(input(\"enter a number to check even or odd number\"))\n",
    "if number%2==0:\n",
    "    print(\"even\")\n",
    "else:\n",
    "        print(\"odd\")\n",
    "        "
   ]
  },
  {
   "cell_type": "code",
   "execution_count": 41,
   "id": "c55f2d48-6dc3-4de4-967a-9251da967fce",
   "metadata": {},
   "outputs": [
    {
     "name": "stdin",
     "output_type": "stream",
     "text": [
      "enter your age 19\n",
      "are you citizen ? yes\n"
     ]
    },
    {
     "name": "stdout",
     "output_type": "stream",
     "text": [
      "you can give a vote\n"
     ]
    }
   ],
   "source": [
    "age=int(input(\"enter your age\"))\n",
    "citizen=input(\"are you citizen ?\")\n",
    "\n",
    "   \n",
    "if age>18:\n",
    "    if citizen==\"yes\":\n",
    "        print(\"you can give a vote\")\n",
    "    else:\n",
    "            print(\"not eligible to give a vote\")\n",
    "        \n",
    "           \n",
    "else:\n",
    "    print(\"not eligible to give a vote\")\n",
    "    \n",
    "    \n",
    "                "
   ]
  },
  {
   "cell_type": "code",
   "execution_count": null,
   "id": "5618b4f5-6387-46f0-befd-86ae6a6d9f73",
   "metadata": {},
   "outputs": [],
   "source": []
  }
 ],
 "metadata": {
  "kernelspec": {
   "display_name": "Python 3 (ipykernel)",
   "language": "python",
   "name": "python3"
  },
  "language_info": {
   "codemirror_mode": {
    "name": "ipython",
    "version": 3
   },
   "file_extension": ".py",
   "mimetype": "text/x-python",
   "name": "python",
   "nbconvert_exporter": "python",
   "pygments_lexer": "ipython3",
   "version": "3.10.8"
  }
 },
 "nbformat": 4,
 "nbformat_minor": 5
}
