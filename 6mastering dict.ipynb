{
 "cells": [
  {
   "cell_type": "code",
   "execution_count": 1,
   "id": "b26f3895-55f6-46dd-b38f-afc75cbf1c81",
   "metadata": {},
   "outputs": [],
   "source": [
    "d={}"
   ]
  },
  {
   "cell_type": "code",
   "execution_count": 2,
   "id": "7b8eb01c-13e9-4afa-9d33-8fc9a04973b2",
   "metadata": {},
   "outputs": [
    {
     "data": {
      "text/plain": [
       "dict"
      ]
     },
     "execution_count": 2,
     "metadata": {},
     "output_type": "execute_result"
    }
   ],
   "source": [
    "type(d)"
   ]
  },
  {
   "cell_type": "code",
   "execution_count": 3,
   "id": "5c8e0c71-6a6f-4f60-852c-a7ab389bd542",
   "metadata": {},
   "outputs": [],
   "source": [
    "d={'a':1}\n",
    "    #  key(index) and value pair\n",
    "   # a = 1"
   ]
  },
  {
   "cell_type": "code",
   "execution_count": 4,
   "id": "e0ba671c-2827-417b-a492-b6e7d8e5ca5a",
   "metadata": {},
   "outputs": [
    {
     "data": {
      "text/plain": [
       "{'a': 1}"
      ]
     },
     "execution_count": 4,
     "metadata": {},
     "output_type": "execute_result"
    }
   ],
   "source": [
    "d"
   ]
  },
  {
   "cell_type": "code",
   "execution_count": 5,
   "id": "c3b660c0-b958-491d-ac55-e819221b37f1",
   "metadata": {},
   "outputs": [],
   "source": [
    "d1={\"name\":\"puri\"}"
   ]
  },
  {
   "cell_type": "code",
   "execution_count": 6,
   "id": "fb961f96-6616-4d5f-a61d-c8b47e421042",
   "metadata": {},
   "outputs": [
    {
     "data": {
      "text/plain": [
       "'puri'"
      ]
     },
     "execution_count": 6,
     "metadata": {},
     "output_type": "execute_result"
    }
   ],
   "source": [
    "d1[\"name\"]\n"
   ]
  },
  {
   "cell_type": "code",
   "execution_count": 7,
   "id": "ae813f4b-d60b-40ff-9a28-da4fdbce73c1",
   "metadata": {},
   "outputs": [],
   "source": [
    "d2={2345:\"puri\"}"
   ]
  },
  {
   "cell_type": "code",
   "execution_count": 8,
   "id": "708164d4-0fa7-443b-a70e-8d647be61d89",
   "metadata": {},
   "outputs": [
    {
     "data": {
      "text/plain": [
       "'puri'"
      ]
     },
     "execution_count": 8,
     "metadata": {},
     "output_type": "execute_result"
    }
   ],
   "source": [
    "d2[2345]"
   ]
  },
  {
   "cell_type": "code",
   "execution_count": 9,
   "id": "7cdaddf7-703c-4581-8e86-cfeba72cd45f",
   "metadata": {},
   "outputs": [
    {
     "ename": "TypeError",
     "evalue": "unhashable type: 'list'",
     "output_type": "error",
     "traceback": [
      "\u001b[0;31m---------------------------------------------------------------------------\u001b[0m",
      "\u001b[0;31mTypeError\u001b[0m                                 Traceback (most recent call last)",
      "Cell \u001b[0;32mIn[9], line 1\u001b[0m\n\u001b[0;32m----> 1\u001b[0m d3\u001b[38;5;241m=\u001b[39m{[\u001b[38;5;241m1\u001b[39m,\u001b[38;5;241m2\u001b[39m,\u001b[38;5;241m3\u001b[39m]:\u001b[38;5;124m\"\u001b[39m\u001b[38;5;124mpuri\u001b[39m\u001b[38;5;124m\"\u001b[39m}\n\u001b[1;32m      2\u001b[0m \u001b[38;5;66;03m# LIST\u001b[39;00m\n",
      "\u001b[0;31mTypeError\u001b[0m: unhashable type: 'list'"
     ]
    }
   ],
   "source": [
    "d3={[1,2,3]:\"puri\"}\n",
    "# LIST"
   ]
  },
  {
   "cell_type": "code",
   "execution_count": null,
   "id": "7c36241e-784b-4998-862f-24f2ecd4da23",
   "metadata": {},
   "outputs": [],
   "source": [
    "d4={(1,2,3):\"puri\"}\n",
    "# TUPLES"
   ]
  },
  {
   "cell_type": "code",
   "execution_count": null,
   "id": "64efcef2-a3ca-4f69-80fe-21ee46dc609b",
   "metadata": {},
   "outputs": [],
   "source": [
    "d4[1,2,3]"
   ]
  },
  {
   "cell_type": "code",
   "execution_count": null,
   "id": "803c5bf4-8340-4c23-a796-83488d7a40f8",
   "metadata": {},
   "outputs": [],
   "source": [
    "d5={\"name\":\"puri\",\"name\":\"puri\"}"
   ]
  },
  {
   "cell_type": "code",
   "execution_count": null,
   "id": "454095cf-4e65-4aed-bd77-d3a0b7a1417b",
   "metadata": {},
   "outputs": [],
   "source": [
    "d5"
   ]
  },
  {
   "cell_type": "markdown",
   "id": "f7fe42a9-9cfd-4e1a-be0d-8df2f45a3d79",
   "metadata": {},
   "source": [
    "dict--->>>unique"
   ]
  },
  {
   "cell_type": "code",
   "execution_count": null,
   "id": "0f2bef55-20f9-4762-a1fe-40c6b7772055",
   "metadata": {},
   "outputs": [],
   "source": [
    "d5[\"name\"]"
   ]
  },
  {
   "cell_type": "code",
   "execution_count": null,
   "id": "ecdeceb2-33bd-4a3a-bf53-cfa687c1603a",
   "metadata": {},
   "outputs": [],
   "source": [
    "d6={\"name\":[\"abhishek\",\"samar\",\"chhotu\"]}"
   ]
  },
  {
   "cell_type": "code",
   "execution_count": null,
   "id": "4afd933f-601d-4a9e-b4e8-ed2ffe62f541",
   "metadata": {},
   "outputs": [],
   "source": [
    "d6[\"name\"][1]"
   ]
  },
  {
   "cell_type": "code",
   "execution_count": null,
   "id": "a5dd5405-5945-4530-a0cf-22f031049624",
   "metadata": {},
   "outputs": [],
   "source": [
    "d6[\"samar\"]=\"puri\""
   ]
  },
  {
   "cell_type": "code",
   "execution_count": null,
   "id": "a212cfdc-174f-4d2d-b51f-f5897d808f59",
   "metadata": {},
   "outputs": [],
   "source": [
    "d6"
   ]
  },
  {
   "cell_type": "code",
   "execution_count": null,
   "id": "91f93b21-5375-42ff-ac21-77e8afc26813",
   "metadata": {},
   "outputs": [],
   "source": [
    "d7={\"name\":\"puri,\"name\":[\"abhishek\",\"samar\",\"chhotu\"],\"a\":6}"
   ]
  },
  {
   "cell_type": "code",
   "execution_count": null,
   "id": "0169f1d8-537c-4d4c-9a90-766dc59e5d92",
   "metadata": {},
   "outputs": [],
   "source": [
    "d7"
   ]
  },
  {
   "cell_type": "code",
   "execution_count": null,
   "id": "b1475327-1fe4-4480-91ba-ac06032b7252",
   "metadata": {},
   "outputs": [],
   "source": [
    "d7.key()"
   ]
  },
  {
   "cell_type": "code",
   "execution_count": null,
   "id": "4ef82c0e-9ec3-4ab4-93e3-6586dcb51bde",
   "metadata": {},
   "outputs": [],
   "source": [
    "a2={12:543}"
   ]
  },
  {
   "cell_type": "code",
   "execution_count": null,
   "id": "05e66293-37ae-4987-8c84-0c7e83a07399",
   "metadata": {},
   "outputs": [],
   "source": [
    "a2=[12]\n"
   ]
  },
  {
   "cell_type": "code",
   "execution_count": null,
   "id": "f4a1a483-4747-4fba-8b95-93c03b50a14f",
   "metadata": {},
   "outputs": [],
   "source": [
    "a1={\"a\":1}\n"
   ]
  },
  {
   "cell_type": "code",
   "execution_count": null,
   "id": "6c161953-e0e9-4abb-b06b-f1cb7bb45e50",
   "metadata": {},
   "outputs": [],
   "source": [
    "a1[\"a\"]"
   ]
  }
 ],
 "metadata": {
  "kernelspec": {
   "display_name": "Python 3 (ipykernel)",
   "language": "python",
   "name": "python3"
  },
  "language_info": {
   "codemirror_mode": {
    "name": "ipython",
    "version": 3
   },
   "file_extension": ".py",
   "mimetype": "text/x-python",
   "name": "python",
   "nbconvert_exporter": "python",
   "pygments_lexer": "ipython3",
   "version": "3.10.8"
  }
 },
 "nbformat": 4,
 "nbformat_minor": 5
}
