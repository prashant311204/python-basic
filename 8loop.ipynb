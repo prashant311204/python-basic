{
 "cells": [
  {
   "cell_type": "code",
   "execution_count": 1,
   "id": "a4ae56c9-0208-4eb7-b96d-38c9d5638707",
   "metadata": {},
   "outputs": [],
   "source": [
    "a=\"prashant\""
   ]
  },
  {
   "cell_type": "code",
   "execution_count": 2,
   "id": "b3c15511-0780-45a5-94b1-4f70a05b9727",
   "metadata": {},
   "outputs": [
    {
     "name": "stdout",
     "output_type": "stream",
     "text": [
      "p\n",
      "r\n",
      "a\n",
      "s\n",
      "h\n",
      "a\n",
      "n\n",
      "t\n"
     ]
    }
   ],
   "source": [
    "for i in a:\n",
    "    print(i)"
   ]
  },
  {
   "cell_type": "code",
   "execution_count": 3,
   "id": "91dfb25d-2e34-4fed-82eb-3ac80f5c7e56",
   "metadata": {},
   "outputs": [
    {
     "data": {
      "text/plain": [
       "'PRASHANT'"
      ]
     },
     "execution_count": 3,
     "metadata": {},
     "output_type": "execute_result"
    }
   ],
   "source": [
    "a.upper()\n"
   ]
  },
  {
   "cell_type": "code",
   "execution_count": 4,
   "id": "b8557982-fc71-43b2-94ec-fe339355211e",
   "metadata": {},
   "outputs": [
    {
     "name": "stdout",
     "output_type": "stream",
     "text": [
      "PRASHANT\n",
      "PRASHANT\n",
      "PRASHANT\n",
      "PRASHANT\n",
      "PRASHANT\n",
      "PRASHANT\n",
      "PRASHANT\n",
      "PRASHANT\n"
     ]
    }
   ],
   "source": [
    "for i in a:\n",
    "    print(a.upper())"
   ]
  },
  {
   "cell_type": "code",
   "execution_count": 5,
   "id": "ed14a658-f173-4733-a442-c4b35fcebcfc",
   "metadata": {},
   "outputs": [],
   "source": [
    "l=[1,2,3,4,5,6,7,8]\n"
   ]
  },
  {
   "cell_type": "code",
   "execution_count": 6,
   "id": "b2a4b084-fc96-4a49-b20c-d430d5738141",
   "metadata": {},
   "outputs": [
    {
     "name": "stdout",
     "output_type": "stream",
     "text": [
      "1\n",
      "2\n",
      "3\n",
      "4\n",
      "5\n",
      "6\n",
      "7\n",
      "8\n"
     ]
    }
   ],
   "source": [
    "for i in l:\n",
    "    print(i)\n",
    "    "
   ]
  },
  {
   "cell_type": "code",
   "execution_count": 7,
   "id": "7801ffea-d438-450f-af3c-ee2e766b6024",
   "metadata": {},
   "outputs": [
    {
     "name": "stdout",
     "output_type": "stream",
     "text": [
      "4\n",
      "5\n",
      "6\n",
      "7\n",
      "8\n",
      "9\n",
      "10\n",
      "11\n"
     ]
    }
   ],
   "source": [
    "for i in l:\n",
    "    print(i+3)\n",
    "    "
   ]
  },
  {
   "cell_type": "code",
   "execution_count": 8,
   "id": "25da9931-a9b6-42ab-80b9-6cdb55f899c9",
   "metadata": {},
   "outputs": [
    {
     "name": "stdout",
     "output_type": "stream",
     "text": [
      "2\n",
      "4\n",
      "6\n",
      "8\n"
     ]
    }
   ],
   "source": [
    "for i in l:\n",
    "    if i%2==0:\n",
    "        print(i )\n",
    "   "
   ]
  },
  {
   "cell_type": "code",
   "execution_count": 10,
   "id": "848bf5d6-283f-440c-bae3-7cbb41c88f61",
   "metadata": {},
   "outputs": [
    {
     "name": "stdout",
     "output_type": "stream",
     "text": [
      "[2, 4, 6, 8]\n"
     ]
    }
   ],
   "source": [
    "l1=[]\n",
    "for i in l:\n",
    "    if i%2==0:\n",
    "        l1.append(i)\n",
    "print(l1)"
   ]
  },
  {
   "cell_type": "code",
   "execution_count": 11,
   "id": "da7e0c6c-f704-4d07-8767-b8345745c251",
   "metadata": {},
   "outputs": [
    {
     "name": "stdout",
     "output_type": "stream",
     "text": [
      "[1, 3, 5, 7]\n"
     ]
    }
   ],
   "source": [
    "l1=[]\n",
    "for i in l:\n",
    "    if i%2!=0:\n",
    "        l1.append(i)\n",
    "print(l1)"
   ]
  },
  {
   "cell_type": "code",
   "execution_count": 12,
   "id": "23625c57-cf67-4b7e-bbe5-40b2480047cc",
   "metadata": {},
   "outputs": [
    {
     "data": {
      "text/plain": [
       "[1, 2, 3, 4, 5, 6, 7, 8]"
      ]
     },
     "execution_count": 12,
     "metadata": {},
     "output_type": "execute_result"
    }
   ],
   "source": [
    "l"
   ]
  },
  {
   "cell_type": "code",
   "execution_count": 13,
   "id": "37a4287f-48c9-4582-9c7a-33a01ffb6fb9",
   "metadata": {},
   "outputs": [
    {
     "name": "stdout",
     "output_type": "stream",
     "text": [
      "1\n",
      "3\n",
      "6\n",
      "10\n",
      "15\n",
      "21\n",
      "28\n",
      "36\n"
     ]
    }
   ],
   "source": [
    "b=0\n",
    "for i in l:\n",
    "    b=b+i\n",
    "    print(b)\n",
    "        "
   ]
  },
  {
   "cell_type": "code",
   "execution_count": 14,
   "id": "57c346eb-3c4b-44ae-92d6-9509dcdb4e1f",
   "metadata": {},
   "outputs": [],
   "source": [
    "l2=[2,3,4,5,6,7,\"prashant\",\"True\",65.8,\"False\"]"
   ]
  },
  {
   "cell_type": "code",
   "execution_count": 33,
   "id": "51556f05-3378-4c63-bf79-934181ea7bc7",
   "metadata": {},
   "outputs": [],
   "source": [
    "l_int=[]\n",
    "l_str=[]\n",
    "l_bool=[]\n",
    "for i in l:\n",
    "        if type(i)==int:\n",
    "            l_int.append(i)\n",
    "        elif type(i)==str:\n",
    "             l_str.append(i)\n",
    "        else:\n",
    "            l_bool.append(i)\n"
   ]
  },
  {
   "cell_type": "code",
   "execution_count": 34,
   "id": "773b3d92-3aa8-4aaf-9e70-02caf86e114a",
   "metadata": {},
   "outputs": [
    {
     "data": {
      "text/plain": [
       "[]"
      ]
     },
     "execution_count": 34,
     "metadata": {},
     "output_type": "execute_result"
    }
   ],
   "source": [
    "l_int"
   ]
  },
  {
   "cell_type": "code",
   "execution_count": null,
   "id": "30cf4145-2519-4b7f-9e07-fe59e7a7825d",
   "metadata": {},
   "outputs": [],
   "source": []
  }
 ],
 "metadata": {
  "kernelspec": {
   "display_name": "Python 3 (ipykernel)",
   "language": "python",
   "name": "python3"
  },
  "language_info": {
   "codemirror_mode": {
    "name": "ipython",
    "version": 3
   },
   "file_extension": ".py",
   "mimetype": "text/x-python",
   "name": "python",
   "nbconvert_exporter": "python",
   "pygments_lexer": "ipython3",
   "version": "3.10.8"
  }
 },
 "nbformat": 4,
 "nbformat_minor": 5
}
