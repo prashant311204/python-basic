{
 "cells": [
  {
   "cell_type": "code",
   "execution_count": 3,
   "id": "05a5b03a-9efe-4f8a-9f9c-3c71002bb1bb",
   "metadata": {},
   "outputs": [
    {
     "data": {
      "text/plain": [
       "4"
      ]
     },
     "execution_count": 3,
     "metadata": {},
     "output_type": "execute_result"
    }
   ],
   "source": [
    "1+3"
   ]
  },
  {
   "cell_type": "code",
   "execution_count": 6,
   "id": "108ed4cf-fed1-4a88-bb01-27d3ebdd938b",
   "metadata": {},
   "outputs": [],
   "source": [
    "a=4"
   ]
  },
  {
   "cell_type": "code",
   "execution_count": 7,
   "id": "c5888d59-c305-4fd2-ad24-8f937a349cb3",
   "metadata": {},
   "outputs": [
    {
     "data": {
      "text/plain": [
       "4"
      ]
     },
     "execution_count": 7,
     "metadata": {},
     "output_type": "execute_result"
    }
   ],
   "source": [
    "a"
   ]
  },
  {
   "cell_type": "code",
   "execution_count": 8,
   "id": "29ce7fae-d444-4ca3-8df3-290dd2170f86",
   "metadata": {},
   "outputs": [
    {
     "data": {
      "text/plain": [
       "int"
      ]
     },
     "execution_count": 8,
     "metadata": {},
     "output_type": "execute_result"
    }
   ],
   "source": [
    "type(a)"
   ]
  },
  {
   "cell_type": "code",
   "execution_count": 9,
   "id": "9d206218-9459-467b-a412-c23ed5571141",
   "metadata": {},
   "outputs": [],
   "source": [
    "a=4.6"
   ]
  },
  {
   "cell_type": "code",
   "execution_count": 10,
   "id": "6a24db5d-e411-4107-910d-09e164d365cc",
   "metadata": {},
   "outputs": [
    {
     "data": {
      "text/plain": [
       "4.6"
      ]
     },
     "execution_count": 10,
     "metadata": {},
     "output_type": "execute_result"
    }
   ],
   "source": [
    "a"
   ]
  },
  {
   "cell_type": "code",
   "execution_count": 11,
   "id": "b66d189a-bc80-4e33-9c36-f5d239504416",
   "metadata": {},
   "outputs": [
    {
     "data": {
      "text/plain": [
       "float"
      ]
     },
     "execution_count": 11,
     "metadata": {},
     "output_type": "execute_result"
    }
   ],
   "source": [
    "type(a)"
   ]
  },
  {
   "cell_type": "code",
   "execution_count": 12,
   "id": "eab50366-44d9-42d9-a60a-12996ad09735",
   "metadata": {},
   "outputs": [],
   "source": [
    "a=10"
   ]
  },
  {
   "cell_type": "code",
   "execution_count": 13,
   "id": "5a64ad1e-9747-41f2-9d7c-1ed5e4704ae9",
   "metadata": {},
   "outputs": [
    {
     "data": {
      "text/plain": [
       "10"
      ]
     },
     "execution_count": 13,
     "metadata": {},
     "output_type": "execute_result"
    }
   ],
   "source": [
    "a"
   ]
  },
  {
   "cell_type": "code",
   "execution_count": null,
   "id": "ea2c02f0-abb5-4ce1-9084-a56af2381d3f",
   "metadata": {},
   "outputs": [],
   "source": [
    "p = \" my name is prashant kumar puri\""
   ]
  },
  {
   "cell_type": "code",
   "execution_count": null,
   "id": "9291ddc1-09a8-4181-8640-79bdfb57387f",
   "metadata": {},
   "outputs": [
    {
     "data": {
      "text/plain": [
       "' my name is prashant kumar puri'"
      ]
     },
     "execution_count": 15,
     "metadata": {},
     "output_type": "execute_result"
    }
   ],
   "source": [
    "p"
   ]
  },
  {
   "cell_type": "code",
   "execution_count": null,
   "id": "3a3ca9ba-cdc3-4249-81d9-2ea776aa2555",
   "metadata": {},
   "outputs": [
    {
     "data": {
      "text/plain": [
       "str"
      ]
     },
     "execution_count": 16,
     "metadata": {},
     "output_type": "execute_result"
    }
   ],
   "source": [
    "type(p)"
   ]
  },
  {
   "cell_type": "code",
   "execution_count": null,
   "id": "d5a81d97-0c9c-4e34-badd-dee3ceb6c42a",
   "metadata": {},
   "outputs": [],
   "source": [
    "p='prashant'\n",
    "#string ko \" \" <---> ' '"
   ]
  },
  {
   "cell_type": "code",
   "execution_count": null,
   "id": "a4d060f8-2c29-4da4-8c34-049f15369ba9",
   "metadata": {},
   "outputs": [
    {
     "data": {
      "text/plain": [
       "'prashant'"
      ]
     },
     "execution_count": 18,
     "metadata": {},
     "output_type": "execute_result"
    }
   ],
   "source": [
    "p"
   ]
  },
  {
   "cell_type": "code",
   "execution_count": null,
   "id": "f3e04dfd-4e3a-460a-8cfe-24928fcff572",
   "metadata": {},
   "outputs": [
    {
     "data": {
      "text/plain": [
       "str"
      ]
     },
     "execution_count": 19,
     "metadata": {},
     "output_type": "execute_result"
    }
   ],
   "source": [
    "type(p)"
   ]
  },
  {
   "cell_type": "code",
   "execution_count": 20,
   "id": "8b126ef2-0daa-4b39-89df-88682deebdb5",
   "metadata": {},
   "outputs": [],
   "source": [
    "b1=True"
   ]
  },
  {
   "cell_type": "code",
   "execution_count": 21,
   "id": "544b717b-5257-469e-b459-78e426262232",
   "metadata": {},
   "outputs": [],
   "source": [
    "b2=False"
   ]
  },
  {
   "cell_type": "code",
   "execution_count": 22,
   "id": "8c9223d6-2b23-4f68-bce9-3192e62f5261",
   "metadata": {},
   "outputs": [
    {
     "data": {
      "text/plain": [
       "1"
      ]
     },
     "execution_count": 22,
     "metadata": {},
     "output_type": "execute_result"
    }
   ],
   "source": [
    "b1-b2\n",
    "#1-o=1"
   ]
  },
  {
   "cell_type": "code",
   "execution_count": 27,
   "id": "311b9757-b47a-4ee3-b80d-919de9966d8b",
   "metadata": {},
   "outputs": [],
   "source": [
    "h=8+4j\n",
    "#j --> imagenary\n"
   ]
  },
  {
   "cell_type": "code",
   "execution_count": 29,
   "id": "a4f01860-ac04-4aeb-b39e-29fddbe24f0b",
   "metadata": {},
   "outputs": [
    {
     "data": {
      "text/plain": [
       "(8+4j)"
      ]
     },
     "execution_count": 29,
     "metadata": {},
     "output_type": "execute_result"
    }
   ],
   "source": [
    "h"
   ]
  },
  {
   "cell_type": "code",
   "execution_count": 28,
   "id": "eaacd356-e0ec-48fc-bc73-0555e4959599",
   "metadata": {},
   "outputs": [
    {
     "data": {
      "text/plain": [
       "complex"
      ]
     },
     "execution_count": 28,
     "metadata": {},
     "output_type": "execute_result"
    }
   ],
   "source": [
    "type(h)"
   ]
  },
  {
   "cell_type": "code",
   "execution_count": 30,
   "id": "7bf41e0c-88c0-408e-bd71-7f17fb8ba69a",
   "metadata": {},
   "outputs": [],
   "source": [
    "i=2j"
   ]
  },
  {
   "cell_type": "code",
   "execution_count": 31,
   "id": "489e173f-f241-4c29-b127-f1bbb469a210",
   "metadata": {},
   "outputs": [
    {
     "data": {
      "text/plain": [
       "complex"
      ]
     },
     "execution_count": 31,
     "metadata": {},
     "output_type": "execute_result"
    }
   ],
   "source": [
    "type(i)"
   ]
  },
  {
   "cell_type": "code",
   "execution_count": 32,
   "id": "ffc2f2cf-721a-45ce-8c77-757762df3498",
   "metadata": {},
   "outputs": [
    {
     "data": {
      "text/plain": [
       "8.0"
      ]
     },
     "execution_count": 32,
     "metadata": {},
     "output_type": "execute_result"
    }
   ],
   "source": [
    "h.real\n",
    "#variable.tab button"
   ]
  },
  {
   "cell_type": "code",
   "execution_count": 33,
   "id": "d310ddce-0f9f-4f7b-9379-294eb76b6e9e",
   "metadata": {},
   "outputs": [
    {
     "data": {
      "text/plain": [
       "4.0"
      ]
     },
     "execution_count": 33,
     "metadata": {},
     "output_type": "execute_result"
    }
   ],
   "source": [
    "h.imag"
   ]
  }
 ],
 "metadata": {
  "kernelspec": {
   "display_name": "Python 3 (ipykernel)",
   "language": "python",
   "name": "python3"
  },
  "language_info": {
   "codemirror_mode": {
    "name": "ipython",
    "version": 3
   },
   "file_extension": ".py",
   "mimetype": "text/x-python",
   "name": "python",
   "nbconvert_exporter": "python",
   "pygments_lexer": "ipython3",
   "version": "3.10.8"
  }
 },
 "nbformat": 4,
 "nbformat_minor": 5
}
