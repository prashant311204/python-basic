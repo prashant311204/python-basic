{
 "cells": [
  {
   "cell_type": "code",
   "execution_count": 3,
   "id": "8a931a66-aad6-4af8-aca8-580e4a03df88",
   "metadata": {},
   "outputs": [],
   "source": [
    "t=()"
   ]
  },
  {
   "cell_type": "code",
   "execution_count": 4,
   "id": "d8ce9a9b-0c3c-47bb-9cc2-0f1322ea874b",
   "metadata": {},
   "outputs": [
    {
     "data": {
      "text/plain": [
       "tuple"
      ]
     },
     "execution_count": 4,
     "metadata": {},
     "output_type": "execute_result"
    }
   ],
   "source": [
    "type(t)"
   ]
  },
  {
   "cell_type": "markdown",
   "id": "557e7e9a-1179-4327-a728-5e4113296aed",
   "metadata": {},
   "source": [
    "TUPLE---->>>> kisi index par iska  value change nii hoga"
   ]
  },
  {
   "cell_type": "code",
   "execution_count": 8,
   "id": "bbf6d5f1-c845-447d-beb1-e22f05f5247b",
   "metadata": {},
   "outputs": [],
   "source": [
    "t1=(1,4,\"prashant\",5.9,\"True\")\n"
   ]
  },
  {
   "cell_type": "code",
   "execution_count": 9,
   "id": "7f6a92f9-ddaf-407f-bd0b-af39458718c3",
   "metadata": {},
   "outputs": [
    {
     "data": {
      "text/plain": [
       "(1, 4, 'prashant', 5.9, 'True')"
      ]
     },
     "execution_count": 9,
     "metadata": {},
     "output_type": "execute_result"
    }
   ],
   "source": [
    "t1"
   ]
  },
  {
   "cell_type": "code",
   "execution_count": 10,
   "id": "5538d373-4f5f-4db2-a234-79e6afe37aae",
   "metadata": {},
   "outputs": [
    {
     "data": {
      "text/plain": [
       "tuple"
      ]
     },
     "execution_count": 10,
     "metadata": {},
     "output_type": "execute_result"
    }
   ],
   "source": [
    "type(t1)"
   ]
  },
  {
   "cell_type": "code",
   "execution_count": 11,
   "id": "5e9c5e49-ede7-4a76-901b-bea221fa40fd",
   "metadata": {},
   "outputs": [],
   "source": [
    "l=[1,4,\"prashant\",5.9,\"True\"]"
   ]
  },
  {
   "cell_type": "code",
   "execution_count": 12,
   "id": "6acba7ce-f703-493e-ab64-25d21ce21dfd",
   "metadata": {},
   "outputs": [
    {
     "data": {
      "text/plain": [
       "list"
      ]
     },
     "execution_count": 12,
     "metadata": {},
     "output_type": "execute_result"
    }
   ],
   "source": [
    "type(l)"
   ]
  },
  {
   "cell_type": "code",
   "execution_count": 13,
   "id": "28c5c543-de95-431f-a047-a19256a6a919",
   "metadata": {},
   "outputs": [
    {
     "data": {
      "text/plain": [
       "'prashant'"
      ]
     },
     "execution_count": 13,
     "metadata": {},
     "output_type": "execute_result"
    }
   ],
   "source": [
    "l[2]"
   ]
  },
  {
   "cell_type": "code",
   "execution_count": 14,
   "id": "efd908a2-5943-436e-ba04-0547cfa6315f",
   "metadata": {},
   "outputs": [
    {
     "data": {
      "text/plain": [
       "'prashant'"
      ]
     },
     "execution_count": 14,
     "metadata": {},
     "output_type": "execute_result"
    }
   ],
   "source": [
    "t1[2]"
   ]
  },
  {
   "cell_type": "code",
   "execution_count": 16,
   "id": "54c1107e-eaf4-49fa-a4df-2c63daf7548b",
   "metadata": {},
   "outputs": [
    {
     "data": {
      "text/plain": [
       "(1, 4, 'prashant')"
      ]
     },
     "execution_count": 16,
     "metadata": {},
     "output_type": "execute_result"
    }
   ],
   "source": [
    "t1[0:3:1]"
   ]
  },
  {
   "cell_type": "code",
   "execution_count": 17,
   "id": "f495f817-e252-4a7d-b703-ce24b96974cd",
   "metadata": {},
   "outputs": [
    {
     "ename": "TypeError",
     "evalue": "'tuple' object does not support item assignment",
     "output_type": "error",
     "traceback": [
      "\u001b[0;31m---------------------------------------------------------------------------\u001b[0m",
      "\u001b[0;31mTypeError\u001b[0m                                 Traceback (most recent call last)",
      "Cell \u001b[0;32mIn[17], line 1\u001b[0m\n\u001b[0;32m----> 1\u001b[0m \u001b[43mt1\u001b[49m\u001b[43m[\u001b[49m\u001b[38;5;241;43m2\u001b[39;49m\u001b[43m]\u001b[49m\u001b[38;5;241m=\u001b[39m\u001b[38;5;124m\"\u001b[39m\u001b[38;5;124mraj\u001b[39m\u001b[38;5;124m\"\u001b[39m\n",
      "\u001b[0;31mTypeError\u001b[0m: 'tuple' object does not support item assignment"
     ]
    }
   ],
   "source": [
    "t1[2]=\"raj\""
   ]
  },
  {
   "cell_type": "code",
   "execution_count": 19,
   "id": "f3f53618-63e2-461c-ac70-4fc35ca0f1e9",
   "metadata": {},
   "outputs": [],
   "source": [
    "l[2]=\"raj\""
   ]
  },
  {
   "cell_type": "code",
   "execution_count": 20,
   "id": "1f999bd4-57b5-465f-97d8-1d9113fd5bfc",
   "metadata": {},
   "outputs": [
    {
     "data": {
      "text/plain": [
       "[1, 4, 'raj', 5.9, 'True']"
      ]
     },
     "execution_count": 20,
     "metadata": {},
     "output_type": "execute_result"
    }
   ],
   "source": [
    "l"
   ]
  },
  {
   "cell_type": "code",
   "execution_count": 21,
   "id": "f0f63df1-aef3-4676-bd47-05bf1656a92d",
   "metadata": {},
   "outputs": [
    {
     "data": {
      "text/plain": [
       "(1, 4, 'prashant', 5.9, 'True')"
      ]
     },
     "execution_count": 21,
     "metadata": {},
     "output_type": "execute_result"
    }
   ],
   "source": [
    "t1"
   ]
  },
  {
   "cell_type": "code",
   "execution_count": 22,
   "id": "8aca43c4-e016-4028-8654-0e975fc1a522",
   "metadata": {},
   "outputs": [
    {
     "ename": "TypeError",
     "evalue": "'tuple' object does not support item assignment",
     "output_type": "error",
     "traceback": [
      "\u001b[0;31m---------------------------------------------------------------------------\u001b[0m",
      "\u001b[0;31mTypeError\u001b[0m                                 Traceback (most recent call last)",
      "Cell \u001b[0;32mIn[22], line 1\u001b[0m\n\u001b[0;32m----> 1\u001b[0m \u001b[43mt1\u001b[49m\u001b[43m[\u001b[49m\u001b[38;5;241;43m1\u001b[39;49m\u001b[43m]\u001b[49m\u001b[38;5;241m=\u001b[39m\u001b[38;5;241m100\u001b[39m\n",
      "\u001b[0;31mTypeError\u001b[0m: 'tuple' object does not support item assignment"
     ]
    }
   ],
   "source": [
    "t1[1]=100"
   ]
  },
  {
   "cell_type": "code",
   "execution_count": 23,
   "id": "552f4f02-34df-42f2-96c4-e4c436f57508",
   "metadata": {},
   "outputs": [],
   "source": [
    "l[1]=100"
   ]
  },
  {
   "cell_type": "code",
   "execution_count": 24,
   "id": "bcd6ff10-5cdb-499d-b7e0-771de3820559",
   "metadata": {},
   "outputs": [
    {
     "data": {
      "text/plain": [
       "[1, 100, 'raj', 5.9, 'True']"
      ]
     },
     "execution_count": 24,
     "metadata": {},
     "output_type": "execute_result"
    }
   ],
   "source": [
    "l"
   ]
  },
  {
   "cell_type": "markdown",
   "id": "2cf043c3-0acf-4a7b-b606-c24cdc30f149",
   "metadata": {},
   "source": [
    "LIST------->>>>> MUTABLE\n",
    "TUPLES----->>>>> INMUTABLE"
   ]
  },
  {
   "cell_type": "code",
   "execution_count": 25,
   "id": "757c4575-8a45-47f0-9069-dc47ad919eb0",
   "metadata": {},
   "outputs": [
    {
     "data": {
      "text/plain": [
       "[1, 4, 'prashant', 5.9, 'True']"
      ]
     },
     "execution_count": 25,
     "metadata": {},
     "output_type": "execute_result"
    }
   ],
   "source": [
    "list(t1)\n",
    "#TUPLES TO LIST"
   ]
  },
  {
   "cell_type": "code",
   "execution_count": 27,
   "id": "5036e104-41f9-4d7b-9d1c-7810720a52eb",
   "metadata": {},
   "outputs": [
    {
     "data": {
      "text/plain": [
       "(1, 100, 'raj', 5.9, 'True')"
      ]
     },
     "execution_count": 27,
     "metadata": {},
     "output_type": "execute_result"
    }
   ],
   "source": [
    "tuple(l)\n",
    "#LIST TO TUPLES"
   ]
  },
  {
   "cell_type": "code",
   "execution_count": 29,
   "id": "c3334354-4347-404d-bf9d-f329b21f22e0",
   "metadata": {},
   "outputs": [
    {
     "data": {
      "text/plain": [
       "(1, 4, 'prashant', 5.9, 'True', 1, 4, 'prashant', 5.9, 'True')"
      ]
     },
     "execution_count": 29,
     "metadata": {},
     "output_type": "execute_result"
    }
   ],
   "source": [
    "t1*2"
   ]
  },
  {
   "cell_type": "code",
   "execution_count": 30,
   "id": "74caa555-a87f-4922-9bde-91b9030d160f",
   "metadata": {},
   "outputs": [],
   "source": [
    "t2=(\"puri\",1,2,5,2,1,8,\"puri\")"
   ]
  },
  {
   "cell_type": "code",
   "execution_count": 31,
   "id": "206369cd-fb36-4526-add2-79305136be68",
   "metadata": {},
   "outputs": [
    {
     "data": {
      "text/plain": [
       "('puri', 1, 2, 5, 2, 1, 8, 'puri')"
      ]
     },
     "execution_count": 31,
     "metadata": {},
     "output_type": "execute_result"
    }
   ],
   "source": [
    "t2"
   ]
  },
  {
   "cell_type": "code",
   "execution_count": 33,
   "id": "3bf3524b-d39a-4176-939a-33e0a409d9cf",
   "metadata": {},
   "outputs": [
    {
     "data": {
      "text/plain": [
       "2"
      ]
     },
     "execution_count": 33,
     "metadata": {},
     "output_type": "execute_result"
    }
   ],
   "source": [
    "t2.count(\"puri\")"
   ]
  },
  {
   "cell_type": "code",
   "execution_count": 34,
   "id": "3b9d99d7-fd40-45c8-b490-e00a50c2c0c5",
   "metadata": {},
   "outputs": [
    {
     "data": {
      "text/plain": [
       "1"
      ]
     },
     "execution_count": 34,
     "metadata": {},
     "output_type": "execute_result"
    }
   ],
   "source": [
    "t2.index(1)\n",
    "#first wala ka index btayega"
   ]
  },
  {
   "cell_type": "code",
   "execution_count": 35,
   "id": "552ed880-2a8e-4dbd-b301-a204111c7ebf",
   "metadata": {},
   "outputs": [],
   "source": [
    "t3=(6,3,8,4)"
   ]
  },
  {
   "cell_type": "code",
   "execution_count": 36,
   "id": "4d224dc6-4d56-4e61-a058-b9976bb77aaa",
   "metadata": {},
   "outputs": [
    {
     "data": {
      "text/plain": [
       "3"
      ]
     },
     "execution_count": 36,
     "metadata": {},
     "output_type": "execute_result"
    }
   ],
   "source": [
    "min(t3)"
   ]
  },
  {
   "cell_type": "code",
   "execution_count": 37,
   "id": "f89965a6-5893-4a75-936f-07237601260b",
   "metadata": {},
   "outputs": [
    {
     "data": {
      "text/plain": [
       "8"
      ]
     },
     "execution_count": 37,
     "metadata": {},
     "output_type": "execute_result"
    }
   ],
   "source": [
    "max(t3)"
   ]
  },
  {
   "cell_type": "code",
   "execution_count": 38,
   "id": "9cf74937-035d-46e2-b78c-ad3e8fc65456",
   "metadata": {},
   "outputs": [
    {
     "data": {
      "text/plain": [
       "4"
      ]
     },
     "execution_count": 38,
     "metadata": {},
     "output_type": "execute_result"
    }
   ],
   "source": [
    "len(t3)"
   ]
  },
  {
   "cell_type": "code",
   "execution_count": null,
   "id": "bc16e873-1ce2-44e7-9e45-f5409fcd80a5",
   "metadata": {},
   "outputs": [],
   "source": []
  }
 ],
 "metadata": {
  "kernelspec": {
   "display_name": "Python 3 (ipykernel)",
   "language": "python",
   "name": "python3"
  },
  "language_info": {
   "codemirror_mode": {
    "name": "ipython",
    "version": 3
   },
   "file_extension": ".py",
   "mimetype": "text/x-python",
   "name": "python",
   "nbconvert_exporter": "python",
   "pygments_lexer": "ipython3",
   "version": "3.10.8"
  }
 },
 "nbformat": 4,
 "nbformat_minor": 5
}
