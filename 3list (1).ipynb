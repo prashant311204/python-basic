{
 "cells": [
  {
   "cell_type": "code",
   "execution_count": 1,
   "id": "84477cf8-1cc6-45ec-8db4-3a98217f20d9",
   "metadata": {},
   "outputs": [],
   "source": [
    "l=[]"
   ]
  },
  {
   "cell_type": "code",
   "execution_count": 2,
   "id": "a5bbcdd0-4308-4fc7-a980-fa369c026a6f",
   "metadata": {},
   "outputs": [
    {
     "data": {
      "text/plain": [
       "list"
      ]
     },
     "execution_count": 2,
     "metadata": {},
     "output_type": "execute_result"
    }
   ],
   "source": [
    "type(l)"
   ]
  },
  {
   "cell_type": "code",
   "execution_count": 3,
   "id": "c895161d-11d4-4c14-abce-922455b87299",
   "metadata": {},
   "outputs": [],
   "source": [
    "p=[]"
   ]
  },
  {
   "cell_type": "code",
   "execution_count": 4,
   "id": "b8f8fdc3-3031-4d23-8502-061146bd8d63",
   "metadata": {},
   "outputs": [
    {
     "data": {
      "text/plain": [
       "list"
      ]
     },
     "execution_count": 4,
     "metadata": {},
     "output_type": "execute_result"
    }
   ],
   "source": [
    "type(p)"
   ]
  },
  {
   "cell_type": "code",
   "execution_count": 13,
   "id": "a4946948-f6f1-4727-8cb6-77514eb34a2c",
   "metadata": {},
   "outputs": [],
   "source": [
    "p1=[1,2,3,4.5,7.6,'true',2+3j]\n",
    "#   0 1 2   3  4     5     6 \n",
    "#collection of all data type"
   ]
  },
  {
   "cell_type": "code",
   "execution_count": 14,
   "id": "4329b89e-1137-42b8-91d7-32489a23e6e9",
   "metadata": {},
   "outputs": [
    {
     "data": {
      "text/plain": [
       "[1, 2, 3, 4.5, 7.6, 'true', (2+3j)]"
      ]
     },
     "execution_count": 14,
     "metadata": {},
     "output_type": "execute_result"
    }
   ],
   "source": [
    "p1"
   ]
  },
  {
   "cell_type": "code",
   "execution_count": 15,
   "id": "c89ec263-4186-4813-b442-fc74e39c414c",
   "metadata": {},
   "outputs": [
    {
     "data": {
      "text/plain": [
       "7"
      ]
     },
     "execution_count": 15,
     "metadata": {},
     "output_type": "execute_result"
    }
   ],
   "source": [
    "len(p1)\n",
    "#number of  element"
   ]
  },
  {
   "cell_type": "code",
   "execution_count": 7,
   "id": "63b922bd-c6a4-44c3-829a-9cc7714b2032",
   "metadata": {},
   "outputs": [
    {
     "data": {
      "text/plain": [
       "'true'"
      ]
     },
     "execution_count": 7,
     "metadata": {},
     "output_type": "execute_result"
    }
   ],
   "source": [
    "p1[5]\n",
    "#index wise value dega"
   ]
  },
  {
   "cell_type": "code",
   "execution_count": 8,
   "id": "1e53eff8-790e-4ef7-8482-f7cd52111145",
   "metadata": {},
   "outputs": [],
   "source": [
    "p1[2]=100\n",
    "#index 2 par value change kr dega"
   ]
  },
  {
   "cell_type": "code",
   "execution_count": 9,
   "id": "0f305b41-6905-4b5a-80be-e05a700c3d01",
   "metadata": {},
   "outputs": [
    {
     "data": {
      "text/plain": [
       "[1, 2, 100, 4.5, 7.6, 'true', (2+3j)]"
      ]
     },
     "execution_count": 9,
     "metadata": {},
     "output_type": "execute_result"
    }
   ],
   "source": [
    "p1"
   ]
  },
  {
   "cell_type": "code",
   "execution_count": 10,
   "id": "8d9891ce-d1c7-44b3-8ddc-8fb43b1f7b31",
   "metadata": {},
   "outputs": [
    {
     "data": {
      "text/plain": [
       "[(2+3j), 'true', 7.6, 4.5, 100, 2, 1]"
      ]
     },
     "execution_count": 10,
     "metadata": {},
     "output_type": "execute_result"
    }
   ],
   "source": [
    "p1[::-1]"
   ]
  },
  {
   "cell_type": "code",
   "execution_count": 9,
   "id": "394a207c-f1f7-4de9-ab7d-d9377f4e0a4d",
   "metadata": {},
   "outputs": [],
   "source": [
    "p2=\"phone\""
   ]
  },
  {
   "cell_type": "code",
   "execution_count": 12,
   "id": "24145db5-c8ce-4ba3-b381-0c8c7e292a86",
   "metadata": {},
   "outputs": [
    {
     "ename": "TypeError",
     "evalue": "'str' object does not support item assignment",
     "output_type": "error",
     "traceback": [
      "\u001b[0;31m---------------------------------------------------------------------------\u001b[0m",
      "\u001b[0;31mTypeError\u001b[0m                                 Traceback (most recent call last)",
      "Cell \u001b[0;32mIn[12], line 1\u001b[0m\n\u001b[0;32m----> 1\u001b[0m \u001b[43mp2\u001b[49m\u001b[43m[\u001b[49m\u001b[38;5;241;43m0\u001b[39;49m\u001b[43m]\u001b[49m\u001b[38;5;241m=\u001b[39m\u001b[38;5;124m'\u001b[39m\u001b[38;5;124mA\u001b[39m\u001b[38;5;124m'\u001b[39m\n",
      "\u001b[0;31mTypeError\u001b[0m: 'str' object does not support item assignment"
     ]
    }
   ],
   "source": [
    "p2[0]='A'\n",
    "#STRING KA VALUE CHANGE NII HOGA"
   ]
  },
  {
   "cell_type": "markdown",
   "id": "4b721d50-dd88-4257-97f7-f9a60dd7b7a7",
   "metadata": {},
   "source": [
    "#### SAME VALUE PAR DATA KA VALUE CHANGE HOGA TO WO ----->>> MUTABLE HOGA {list}\n",
    "####  VALUE CHANGE NII HOGA TO --->>> INMUTABLE HOGA {string}"
   ]
  },
  {
   "cell_type": "code",
   "execution_count": 2,
   "id": "570a40e8-b9a8-4ed7-8903-98cb518f3f74",
   "metadata": {},
   "outputs": [],
   "source": [
    "p3=[12,18,2.4,\"false\",\"prashant\"]"
   ]
  },
  {
   "cell_type": "code",
   "execution_count": 3,
   "id": "fa5b1115-5477-47a4-870f-39812270593b",
   "metadata": {},
   "outputs": [
    {
     "data": {
      "text/plain": [
       "[12, 18, 2.4, 'false', 'prashant']"
      ]
     },
     "execution_count": 3,
     "metadata": {},
     "output_type": "execute_result"
    }
   ],
   "source": [
    "p3"
   ]
  },
  {
   "cell_type": "code",
   "execution_count": 4,
   "id": "ca26b779-fab5-4c5d-87ca-aa16f9c2774d",
   "metadata": {},
   "outputs": [
    {
     "data": {
      "text/plain": [
       "[12,\n",
       " 18,\n",
       " 2.4,\n",
       " 'false',\n",
       " 'prashant',\n",
       " 12,\n",
       " 18,\n",
       " 2.4,\n",
       " 'false',\n",
       " 'prashant',\n",
       " 12,\n",
       " 18,\n",
       " 2.4,\n",
       " 'false',\n",
       " 'prashant',\n",
       " 12,\n",
       " 18,\n",
       " 2.4,\n",
       " 'false',\n",
       " 'prashant']"
      ]
     },
     "execution_count": 4,
     "metadata": {},
     "output_type": "execute_result"
    }
   ],
   "source": [
    "p3*4"
   ]
  },
  {
   "cell_type": "code",
   "execution_count": 10,
   "id": "e3af74a6-3cc3-4a71-92a6-2b57968fd088",
   "metadata": {},
   "outputs": [
    {
     "data": {
      "text/plain": [
       "[1, 2, 3, 4.5, 7.6, 'true', (2+3j), 12, 18, 2.4, 'false', 'prashant']"
      ]
     },
     "execution_count": 10,
     "metadata": {},
     "output_type": "execute_result"
    }
   ],
   "source": [
    "p1+p3"
   ]
  },
  {
   "cell_type": "code",
   "execution_count": 11,
   "id": "2ae50399-707f-4831-885b-0559cdbf49f8",
   "metadata": {},
   "outputs": [
    {
     "ename": "TypeError",
     "evalue": "can only concatenate list (not \"int\") to list",
     "output_type": "error",
     "traceback": [
      "\u001b[0;31m---------------------------------------------------------------------------\u001b[0m",
      "\u001b[0;31mTypeError\u001b[0m                                 Traceback (most recent call last)",
      "Cell \u001b[0;32mIn[11], line 1\u001b[0m\n\u001b[0;32m----> 1\u001b[0m \u001b[43mp1\u001b[49m\u001b[38;5;241;43m+\u001b[39;49m\u001b[38;5;241;43m1\u001b[39;49m\n",
      "\u001b[0;31mTypeError\u001b[0m: can only concatenate list (not \"int\") to list"
     ]
    }
   ],
   "source": [
    "p1+1"
   ]
  },
  {
   "cell_type": "code",
   "execution_count": 12,
   "id": "ebce1b9f-a03e-4485-bb88-ea8b6a63ad82",
   "metadata": {},
   "outputs": [
    {
     "ename": "TypeError",
     "evalue": "can only concatenate list (not \"str\") to list",
     "output_type": "error",
     "traceback": [
      "\u001b[0;31m---------------------------------------------------------------------------\u001b[0m",
      "\u001b[0;31mTypeError\u001b[0m                                 Traceback (most recent call last)",
      "Cell \u001b[0;32mIn[12], line 1\u001b[0m\n\u001b[0;32m----> 1\u001b[0m \u001b[43mp1\u001b[49m\u001b[38;5;241;43m+\u001b[39;49m\u001b[38;5;124;43m\"\u001b[39;49m\u001b[38;5;124;43mprashant\u001b[39;49m\u001b[38;5;124;43m\"\u001b[39;49m\n",
      "\u001b[0;31mTypeError\u001b[0m: can only concatenate list (not \"str\") to list"
     ]
    }
   ],
   "source": [
    "p1+\"prashant\""
   ]
  },
  {
   "cell_type": "code",
   "execution_count": 16,
   "id": "1bb20b93-54bf-4012-bb95-8fd6f5a424a1",
   "metadata": {},
   "outputs": [],
   "source": [
    "p4=[\"abhishek\",\"samar\",\"chhotu\"]"
   ]
  },
  {
   "cell_type": "code",
   "execution_count": 17,
   "id": "2b79f435-9676-4ff4-9f69-843974a8bc60",
   "metadata": {},
   "outputs": [
    {
     "data": {
      "text/plain": [
       "False"
      ]
     },
     "execution_count": 17,
     "metadata": {},
     "output_type": "execute_result"
    }
   ],
   "source": [
    "\"prashant\" in p4\n",
    "# in ------>>>>boolen"
   ]
  },
  {
   "cell_type": "code",
   "execution_count": 18,
   "id": "1fb4b2ac-24b5-432e-b32f-41d4998c04d0",
   "metadata": {},
   "outputs": [
    {
     "data": {
      "text/plain": [
       "True"
      ]
     },
     "execution_count": 18,
     "metadata": {},
     "output_type": "execute_result"
    }
   ],
   "source": [
    "\"samar\" in p4"
   ]
  },
  {
   "cell_type": "code",
   "execution_count": 24,
   "id": "e50e4355-72dc-4362-9aa8-8bc0b9ca476f",
   "metadata": {},
   "outputs": [
    {
     "data": {
      "text/plain": [
       "[1, 2, 3, 4.5, 7.6, 'true', (2+3j)]"
      ]
     },
     "execution_count": 24,
     "metadata": {},
     "output_type": "execute_result"
    }
   ],
   "source": [
    "p1"
   ]
  },
  {
   "cell_type": "code",
   "execution_count": 25,
   "id": "707de43e-4cd7-4eef-881f-e0c09870036f",
   "metadata": {},
   "outputs": [
    {
     "ename": "TypeError",
     "evalue": "'>' not supported between instances of 'str' and 'float'",
     "output_type": "error",
     "traceback": [
      "\u001b[0;31m---------------------------------------------------------------------------\u001b[0m",
      "\u001b[0;31mTypeError\u001b[0m                                 Traceback (most recent call last)",
      "Cell \u001b[0;32mIn[25], line 1\u001b[0m\n\u001b[0;32m----> 1\u001b[0m \u001b[38;5;28;43mmax\u001b[39;49m\u001b[43m(\u001b[49m\u001b[43mp1\u001b[49m\u001b[43m)\u001b[49m\n",
      "\u001b[0;31mTypeError\u001b[0m: '>' not supported between instances of 'str' and 'float'"
     ]
    }
   ],
   "source": [
    "max(p1)\n",
    "#same data type ko compare krega"
   ]
  },
  {
   "cell_type": "code",
   "execution_count": 26,
   "id": "3d1db0ca-9870-408f-b180-1cd9702f7bf6",
   "metadata": {},
   "outputs": [],
   "source": [
    "p5=[1,5,7,3,9]"
   ]
  },
  {
   "cell_type": "code",
   "execution_count": 27,
   "id": "1fe7c201-ac6d-4d41-8158-8348d05c3396",
   "metadata": {},
   "outputs": [
    {
     "data": {
      "text/plain": [
       "9"
      ]
     },
     "execution_count": 27,
     "metadata": {},
     "output_type": "execute_result"
    }
   ],
   "source": [
    "max(p5)\n"
   ]
  },
  {
   "cell_type": "code",
   "execution_count": 28,
   "id": "73d9a9e1-9456-461f-a0bc-16a86d5f677b",
   "metadata": {},
   "outputs": [
    {
     "data": {
      "text/plain": [
       "1"
      ]
     },
     "execution_count": 28,
     "metadata": {},
     "output_type": "execute_result"
    }
   ],
   "source": [
    "min(p5)"
   ]
  },
  {
   "cell_type": "code",
   "execution_count": 29,
   "id": "03876d0f-284c-4b74-af7d-339e1d406ec5",
   "metadata": {},
   "outputs": [],
   "source": [
    "p6=[\"abhishek\",\"samar\",\"chhotu\"]"
   ]
  },
  {
   "cell_type": "code",
   "execution_count": 30,
   "id": "378bb825-7256-4b94-837c-09cca0910d0b",
   "metadata": {},
   "outputs": [
    {
     "data": {
      "text/plain": [
       "'samar'"
      ]
     },
     "execution_count": 30,
     "metadata": {},
     "output_type": "execute_result"
    }
   ],
   "source": [
    "max(p6)\n",
    "#dictonary jaisa check krega"
   ]
  },
  {
   "cell_type": "code",
   "execution_count": 31,
   "id": "7c439ae7-4c1e-4048-9303-8c6d5ad6ce47",
   "metadata": {},
   "outputs": [
    {
     "data": {
      "text/plain": [
       "'abhishek'"
      ]
     },
     "execution_count": 31,
     "metadata": {},
     "output_type": "execute_result"
    }
   ],
   "source": [
    "min(p6)"
   ]
  },
  {
   "cell_type": "code",
   "execution_count": 32,
   "id": "b1488347-d533-44b2-8761-f89e855ac68b",
   "metadata": {},
   "outputs": [],
   "source": [
    "p6.append(\"prashant\")\n",
    "#Append(sum) object to the end of the list."
   ]
  },
  {
   "cell_type": "code",
   "execution_count": 33,
   "id": "b5fd874d-2e35-4782-998a-f407e7c0b91e",
   "metadata": {},
   "outputs": [
    {
     "data": {
      "text/plain": [
       "['abhishek', 'samar', 'chhotu', 'prashant']"
      ]
     },
     "execution_count": 33,
     "metadata": {},
     "output_type": "execute_result"
    }
   ],
   "source": [
    "p6"
   ]
  },
  {
   "cell_type": "code",
   "execution_count": 34,
   "id": "db8d5c2d-36a3-4094-b2bc-a644fad992e3",
   "metadata": {},
   "outputs": [
    {
     "data": {
      "text/plain": [
       "[1, 2, 3, 4.5, 7.6, 'true', (2+3j)]"
      ]
     },
     "execution_count": 34,
     "metadata": {},
     "output_type": "execute_result"
    }
   ],
   "source": [
    "p1"
   ]
  },
  {
   "cell_type": "code",
   "execution_count": 35,
   "id": "d5fd4c1d-caaa-4226-8f36-59d72593ad40",
   "metadata": {},
   "outputs": [],
   "source": [
    "p1.insert(1,100)\n",
    "# (index jis par value change krna hai,jitna value rakhna hai)"
   ]
  },
  {
   "cell_type": "code",
   "execution_count": 36,
   "id": "5c773064-a7d9-4f31-8707-ae787c3ced11",
   "metadata": {},
   "outputs": [
    {
     "data": {
      "text/plain": [
       "[1, 100, 2, 3, 4.5, 7.6, 'true', (2+3j)]"
      ]
     },
     "execution_count": 36,
     "metadata": {},
     "output_type": "execute_result"
    }
   ],
   "source": [
    "p1"
   ]
  },
  {
   "cell_type": "code",
   "execution_count": 37,
   "id": "5faf4917-f782-4493-973d-bc8ed6223116",
   "metadata": {},
   "outputs": [
    {
     "data": {
      "text/plain": [
       "(2+3j)"
      ]
     },
     "execution_count": 37,
     "metadata": {},
     "output_type": "execute_result"
    }
   ],
   "source": [
    "p1.pop()\n",
    "# last element remove"
   ]
  },
  {
   "cell_type": "code",
   "execution_count": 38,
   "id": "8f8b7cac-b1a3-450c-877a-d4e53f575f06",
   "metadata": {},
   "outputs": [
    {
     "data": {
      "text/plain": [
       "[1, 100, 2, 3, 4.5, 7.6, 'true']"
      ]
     },
     "execution_count": 38,
     "metadata": {},
     "output_type": "execute_result"
    }
   ],
   "source": [
    "p1"
   ]
  },
  {
   "cell_type": "code",
   "execution_count": 39,
   "id": "aaf13b56-85b4-4353-88b5-6e4548d79a2e",
   "metadata": {},
   "outputs": [
    {
     "data": {
      "text/plain": [
       "100"
      ]
     },
     "execution_count": 39,
     "metadata": {},
     "output_type": "execute_result"
    }
   ],
   "source": [
    "p1.pop(1)\n",
    "#value at infdex remove"
   ]
  },
  {
   "cell_type": "code",
   "execution_count": 40,
   "id": "02c718e3-cd86-4276-97c0-88946d9b075f",
   "metadata": {},
   "outputs": [
    {
     "data": {
      "text/plain": [
       "[1, 2, 3, 4.5, 7.6, 'true']"
      ]
     },
     "execution_count": 40,
     "metadata": {},
     "output_type": "execute_result"
    }
   ],
   "source": [
    "p1"
   ]
  },
  {
   "cell_type": "code",
   "execution_count": 41,
   "id": "4080a2f0-d6aa-4332-a984-86d1781d4c68",
   "metadata": {},
   "outputs": [],
   "source": [
    "p1.reverse()"
   ]
  },
  {
   "cell_type": "code",
   "execution_count": 42,
   "id": "a998a274-61f8-439f-9d1c-a4cf513b7425",
   "metadata": {},
   "outputs": [
    {
     "data": {
      "text/plain": [
       "['true', 7.6, 4.5, 3, 2, 1]"
      ]
     },
     "execution_count": 42,
     "metadata": {},
     "output_type": "execute_result"
    }
   ],
   "source": [
    "p1"
   ]
  },
  {
   "cell_type": "code",
   "execution_count": null,
   "id": "1a30709d-7d0a-4eee-ae85-8bba7d9e684b",
   "metadata": {},
   "outputs": [
    {
     "data": {
      "text/plain": [
       "['abhishek', 'samar', 'chhotu', 'prashant']"
      ]
     },
     "execution_count": 43,
     "metadata": {},
     "output_type": "execute_result"
    }
   ],
   "source": [
    "p6"
   ]
  },
  {
   "cell_type": "code",
   "execution_count": 44,
   "id": "ccdd14cd-1c33-4688-9478-21681a783baa",
   "metadata": {},
   "outputs": [],
   "source": [
    "p6.sort()\n",
    "#same data type ko sort krega"
   ]
  },
  {
   "cell_type": "code",
   "execution_count": 45,
   "id": "f81bde8b-af62-4305-b7b5-963b33f9b530",
   "metadata": {},
   "outputs": [
    {
     "data": {
      "text/plain": [
       "['abhishek', 'chhotu', 'prashant', 'samar']"
      ]
     },
     "execution_count": 45,
     "metadata": {},
     "output_type": "execute_result"
    }
   ],
   "source": [
    "p6\n"
   ]
  },
  {
   "cell_type": "code",
   "execution_count": 46,
   "id": "7acb758e-9697-45a6-83ba-27149efd9518",
   "metadata": {},
   "outputs": [
    {
     "data": {
      "text/plain": [
       "[1, 5, 7, 3, 9]"
      ]
     },
     "execution_count": 46,
     "metadata": {},
     "output_type": "execute_result"
    }
   ],
   "source": [
    "p5"
   ]
  },
  {
   "cell_type": "code",
   "execution_count": 47,
   "id": "bafd1906-65f8-4954-8d69-4eaf360275b9",
   "metadata": {},
   "outputs": [],
   "source": [
    "p5.sort()\n",
    "#p5.sort(reverse=False)--------->>>>>>ascending"
   ]
  },
  {
   "cell_type": "code",
   "execution_count": 48,
   "id": "38fc10cb-3b1d-4b14-9a61-40ee5df25146",
   "metadata": {},
   "outputs": [
    {
     "data": {
      "text/plain": [
       "[1, 3, 5, 7, 9]"
      ]
     },
     "execution_count": 48,
     "metadata": {},
     "output_type": "execute_result"
    }
   ],
   "source": [
    "p5"
   ]
  },
  {
   "cell_type": "code",
   "execution_count": 50,
   "id": "dbf3eff5-1122-4935-91a1-ae5b38688024",
   "metadata": {},
   "outputs": [],
   "source": [
    "p5.sort(reverse=True)\n",
    "# descending "
   ]
  },
  {
   "cell_type": "code",
   "execution_count": 51,
   "id": "10ce89cf-411e-4bb9-9f81-6792a70861cb",
   "metadata": {},
   "outputs": [
    {
     "data": {
      "text/plain": [
       "[9, 7, 5, 3, 1]"
      ]
     },
     "execution_count": 51,
     "metadata": {},
     "output_type": "execute_result"
    }
   ],
   "source": [
    "p5"
   ]
  },
  {
   "cell_type": "code",
   "execution_count": 53,
   "id": "1a333ddd-c9cc-43e5-8611-5f2645c204db",
   "metadata": {},
   "outputs": [],
   "source": [
    "p6.sort(reverse=True)"
   ]
  },
  {
   "cell_type": "code",
   "execution_count": 54,
   "id": "62c0fc29-48f5-4e04-beb2-7304b260ecad",
   "metadata": {},
   "outputs": [
    {
     "data": {
      "text/plain": [
       "['samar', 'prashant', 'chhotu', 'abhishek']"
      ]
     },
     "execution_count": 54,
     "metadata": {},
     "output_type": "execute_result"
    }
   ],
   "source": [
    "p6"
   ]
  },
  {
   "cell_type": "code",
   "execution_count": 55,
   "id": "ce0a7771-9b41-4fac-8749-3c963fabbcc7",
   "metadata": {},
   "outputs": [],
   "source": [
    "p7=[p5,p6]\n",
    "#list ke andar list"
   ]
  },
  {
   "cell_type": "code",
   "execution_count": 56,
   "id": "c133aae7-a030-4f97-88ed-bca9c44e45ff",
   "metadata": {},
   "outputs": [
    {
     "data": {
      "text/plain": [
       "[[9, 7, 5, 3, 1], ['samar', 'prashant', 'chhotu', 'abhishek']]"
      ]
     },
     "execution_count": 56,
     "metadata": {},
     "output_type": "execute_result"
    }
   ],
   "source": [
    "p7"
   ]
  },
  {
   "cell_type": "code",
   "execution_count": 59,
   "id": "b23c83ff-c086-4fae-a211-4bbc4fc2d487",
   "metadata": {},
   "outputs": [
    {
     "data": {
      "text/plain": [
       "['samar', 'prashant', 'chhotu', 'abhishek']"
      ]
     },
     "execution_count": 59,
     "metadata": {},
     "output_type": "execute_result"
    }
   ],
   "source": [
    "p7[1]"
   ]
  },
  {
   "cell_type": "code",
   "execution_count": 60,
   "id": "31372d72-019f-49c3-8399-aede79eab25b",
   "metadata": {},
   "outputs": [
    {
     "data": {
      "text/plain": [
       "'chhotu'"
      ]
     },
     "execution_count": 60,
     "metadata": {},
     "output_type": "execute_result"
    }
   ],
   "source": [
    "p7[1][2]"
   ]
  },
  {
   "cell_type": "code",
   "execution_count": null,
   "id": "40f81f20-3e13-42cb-b670-cfe523411453",
   "metadata": {},
   "outputs": [],
   "source": []
  }
 ],
 "metadata": {
  "kernelspec": {
   "display_name": "Python 3 (ipykernel)",
   "language": "python",
   "name": "python3"
  },
  "language_info": {
   "codemirror_mode": {
    "name": "ipython",
    "version": 3
   },
   "file_extension": ".py",
   "mimetype": "text/x-python",
   "name": "python",
   "nbconvert_exporter": "python",
   "pygments_lexer": "ipython3",
   "version": "3.10.8"
  }
 },
 "nbformat": 4,
 "nbformat_minor": 5
}
